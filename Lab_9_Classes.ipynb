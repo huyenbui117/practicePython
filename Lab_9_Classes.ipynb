{
  "nbformat": 4,
  "nbformat_minor": 0,
  "metadata": {
    "kernelspec": {
      "display_name": "Python 3",
      "language": "python",
      "name": "python3"
    },
    "language_info": {
      "codemirror_mode": {
        "name": "ipython",
        "version": 3
      },
      "file_extension": ".py",
      "mimetype": "text/x-python",
      "name": "python",
      "nbconvert_exporter": "python",
      "pygments_lexer": "ipython3",
      "version": "3.7.6"
    },
    "colab": {
      "name": "Lab 9-Classes.ipynb",
      "provenance": [],
      "include_colab_link": true
    }
  },
  "cells": [
    {
      "cell_type": "markdown",
      "metadata": {
        "id": "view-in-github",
        "colab_type": "text"
      },
      "source": [
        "<a href=\"https://colab.research.google.com/github/huyenbui117/practicePython/blob/main/Lab_9_Classes.ipynb\" target=\"_parent\"><img src=\"https://colab.research.google.com/assets/colab-badge.svg\" alt=\"Open In Colab\"/></a>"
      ]
    },
    {
      "cell_type": "markdown",
      "metadata": {
        "id": "MHODdOffmCF1"
      },
      "source": [
        "<center>\n",
        "    <img src=\"https://cf-courses-data.s3.us.cloud-object-storage.appdomain.cloud/IBMDeveloperSkillsNetwork-PY0101EN-SkillsNetwork/IDSNlogo.png\" width=\"300\" alt=\"cognitiveclass.ai logo\"  />\n",
        "</center>\n",
        "\n",
        "# Classes and Objects in Python\n",
        "\n",
        "Estimated time needed: **40** minutes\n",
        "\n",
        "## Objectives\n",
        "\n",
        "After completing this lab you will be able to:\n",
        "\n",
        "-   Work with classes and objects\n",
        "-   Identify and define attributes and methods\n"
      ]
    },
    {
      "cell_type": "markdown",
      "metadata": {
        "id": "0nSOtg60mCF5"
      },
      "source": [
        "<h2>Table of Contents</h2>\n",
        "<div class=\"alert alert-block alert-info\" style=\"margin-top: 20px\">\n",
        "    <ul>\n",
        "        <li>\n",
        "            <a href=\"#intro\">Introduction to Classes and Objects</a>\n",
        "            <ul>\n",
        "                <li><a href=\"create\">Creating a class</a></li>\n",
        "                <li><a href=\"instance\">Instances of a Class: Objects and Attributes</a></li>\n",
        "                <li><a href=\"method\">Methods</a></li>\n",
        "            </ul>\n",
        "        </li>\n",
        "        <li><a href=\"creating\">Creating a class</a></li>\n",
        "        <li><a href=\"circle\">Creating an instance of a class Circle</a></li>\n",
        "        <li><a href=\"rect\">The Rectangle Class</a></li>\n",
        "    </ul>\n",
        "    \n",
        "</div>\n",
        "\n",
        "<hr>\n"
      ]
    },
    {
      "cell_type": "markdown",
      "metadata": {
        "id": "c1RGl-PKmCF6"
      },
      "source": [
        "<h2 id=\"intro\">Introduction to Classes and Objects</h2>\n"
      ]
    },
    {
      "cell_type": "markdown",
      "metadata": {
        "id": "hqYOd_AomCF7"
      },
      "source": [
        "<h3>Creating a Class</h3>\n"
      ]
    },
    {
      "cell_type": "markdown",
      "metadata": {
        "id": "IaYWAWzYmCF7"
      },
      "source": [
        "The first part of creating a class is giving it a name: In this notebook, we will create two classes, Circle and Rectangle. We need to determine all the data that make up that class, and we call that an attribute. Think about this step as creating a blue print that we will use to create objects. In figure 1 we see two classes, circle and rectangle. Each has their attributes, they are variables. The class circle has the attribute radius and color, while the rectangle has the attribute height and width. Let’s use the visual examples of these shapes before we get to the code, as this will help you get accustomed to the vocabulary.\n"
      ]
    },
    {
      "cell_type": "markdown",
      "metadata": {
        "id": "wMnHVrvBmCF8"
      },
      "source": [
        "<img src=\"https://cf-courses-data.s3.us.cloud-object-storage.appdomain.cloud/IBMDeveloperSkillsNetwork-PY0101EN-SkillsNetwork/labs/Module%203/images/ClassesClass.png\" width=\"500\" />\n"
      ]
    },
    {
      "cell_type": "markdown",
      "metadata": {
        "id": "c065bX8dmCF9"
      },
      "source": [
        "<i>Figure 1: Classes circle and rectangle, and each has their own attributes. The class circle has the attribute radius and colour, the rectangle has the attribute height and width.</i>\n"
      ]
    },
    {
      "cell_type": "markdown",
      "metadata": {
        "id": "LZebfrvdmCF9"
      },
      "source": [
        "<h3 id=\"instance\">Instances of a Class: Objects and Attributes</h3>\n"
      ]
    },
    {
      "cell_type": "markdown",
      "metadata": {
        "id": "fUE6EhbPmCF-"
      },
      "source": [
        "An instance of an object is the realisation of a class, and in Figure 2 we see three instances of the class circle. We give each object a name: red circle, yellow circle and green circle. Each object has different attributes, so let's focus on the attribute of colour for each object.\n"
      ]
    },
    {
      "cell_type": "markdown",
      "metadata": {
        "id": "OSrmpsMwmCF_"
      },
      "source": [
        "<img src=\"https://cf-courses-data.s3.us.cloud-object-storage.appdomain.cloud/IBMDeveloperSkillsNetwork-PY0101EN-SkillsNetwork/labs/Module%203/images/ClassesObj.png\" width=\"500\" />\n"
      ]
    },
    {
      "cell_type": "markdown",
      "metadata": {
        "id": "4nmusaR9mCF_"
      },
      "source": [
        "<i>Figure 2: Three instances of the class circle or three objects of type circle.</i>\n"
      ]
    },
    {
      "cell_type": "markdown",
      "metadata": {
        "id": "20Azsa-mmCF_"
      },
      "source": [
        " The colour attribute for the red circle is the colour red, for the green circle object the colour attribute is green, and for the yellow circle the colour attribute is yellow.   \n"
      ]
    },
    {
      "cell_type": "markdown",
      "metadata": {
        "id": "YCHa0ZCamCGA"
      },
      "source": [
        "<h3 id=\"method\">Methods</h3>\n"
      ]
    },
    {
      "cell_type": "markdown",
      "metadata": {
        "id": "QxuDdJOwmCGA"
      },
      "source": [
        "Methods give you a way to change or interact with the object; they are functions that interact with objects. For example, let’s say we would like to increase the radius by a specified amount of a circle. We can create a method called **add_radius(r)** that increases the radius by **r**. This is shown in figure 3, where after applying the method to the \"orange circle object\", the radius of the object increases accordingly. The “dot” notation means to apply the method to the object, which is essentially applying a function to the information in the object.\n"
      ]
    },
    {
      "cell_type": "markdown",
      "metadata": {
        "id": "22vbIB3WmCGB"
      },
      "source": [
        "<img src=\"https://cf-courses-data.s3.us.cloud-object-storage.appdomain.cloud/IBMDeveloperSkillsNetwork-PY0101EN-SkillsNetwork/labs/Module%203/images/ClassesMethod.png\" width=\"500\" /> \n"
      ]
    },
    {
      "cell_type": "markdown",
      "metadata": {
        "id": "hiwy82yFmCGB"
      },
      "source": [
        "<i>Figure 3: Applying the method “add_radius” to the object orange circle object.</i>\n"
      ]
    },
    {
      "cell_type": "markdown",
      "metadata": {
        "id": "LOiZxMVvmCGC"
      },
      "source": [
        "<hr>\n"
      ]
    },
    {
      "cell_type": "markdown",
      "metadata": {
        "id": "YDILPqLxmCGC"
      },
      "source": [
        "<h2 id=\"creating\">Creating a Class</h2>\n"
      ]
    },
    {
      "cell_type": "markdown",
      "metadata": {
        "id": "rgUw7ablmCGC"
      },
      "source": [
        "Now we are going to create a class circle, but first, we are going to import a library to draw the objects: \n"
      ]
    },
    {
      "cell_type": "code",
      "metadata": {
        "jupyter": {
          "outputs_hidden": true
        },
        "id": "d1yj988xmCGC"
      },
      "source": [
        "# Import the library\n",
        "\n",
        "import matplotlib.pyplot as plt\n",
        "%matplotlib inline  "
      ],
      "execution_count": 8,
      "outputs": []
    },
    {
      "cell_type": "markdown",
      "metadata": {
        "id": "iyoPfx3pmCGE"
      },
      "source": [
        " The first step in creating your own class is to use the <code>class</code> keyword, then the name of the class as shown in Figure 4. In this course the class parent will always be object: \n"
      ]
    },
    {
      "cell_type": "markdown",
      "metadata": {
        "id": "uLPWsB2imCGE"
      },
      "source": [
        "<img src=\"https://cf-courses-data.s3.us.cloud-object-storage.appdomain.cloud/IBMDeveloperSkillsNetwork-PY0101EN-SkillsNetwork/labs/Module%203/images/ClassesDefine.png\" width=\"400\" />\n"
      ]
    },
    {
      "cell_type": "markdown",
      "metadata": {
        "id": "nwOu9NQqmCGE"
      },
      "source": [
        "<i>Figure 4: Creating a class Circle.</i>\n"
      ]
    },
    {
      "cell_type": "markdown",
      "metadata": {
        "id": "9ia6aBdlmCGF"
      },
      "source": [
        "The next step is a special method called a constructor <code>__init__</code>, which is used to initialize the object. The input are data attributes. The term <code>self</code> contains all the attributes in the set. For example the <code>self.color</code> gives the  value of the attribute color and <code>self.radius</code> will give you the radius of the object. We also have the method <code>add_radius()</code> with the parameter <code>r</code>, the method adds the value of <code>r</code> to the attribute radius. To access the radius we use the syntax <code>self.radius</code>. The labeled syntax is summarized in Figure 5:\n"
      ]
    },
    {
      "cell_type": "markdown",
      "metadata": {
        "id": "ocUwj1eumCGF"
      },
      "source": [
        "<img src=\"https://cf-courses-data.s3.us.cloud-object-storage.appdomain.cloud/IBMDeveloperSkillsNetwork-PY0101EN-SkillsNetwork/labs/Module%203/images/ClassesCircle.png\" width=\"600\" />\n"
      ]
    },
    {
      "cell_type": "markdown",
      "metadata": {
        "id": "HzJV3e77mCGF"
      },
      "source": [
        "<i>Figure 5: Labeled syntax of the object circle.</i>\n"
      ]
    },
    {
      "cell_type": "markdown",
      "metadata": {
        "id": "SIJiIBoHmCGF"
      },
      "source": [
        "The actual object is shown below. We include the method <code>drawCircle</code> to display the image of a circle. We set the default radius to 3 and the default colour to blue:\n"
      ]
    },
    {
      "cell_type": "code",
      "metadata": {
        "id": "xBNny2MFmCGG"
      },
      "source": [
        "# Create a class Circle\n",
        "\n",
        "class Circle(object):\n",
        "    \n",
        "    # Constructor\n",
        "    def __init__(self, radius=3, color='blue'):\n",
        "        self.radius = radius\n",
        "        self.color = color \n",
        "    \n",
        "    # Method\n",
        "    def add_radius(self, r):\n",
        "        self.radius = self.radius + r\n",
        "        return(self.radius)\n",
        "    \n",
        "    # Method\n",
        "    def drawCircle(self):\n",
        "        plt.gca().add_patch(plt.Circle((0, 0), radius=self.radius, fc=self.color))\n",
        "        plt.axis('scaled')\n",
        "        plt.show()  "
      ],
      "execution_count": 9,
      "outputs": []
    },
    {
      "cell_type": "markdown",
      "metadata": {
        "id": "mMxa6iKHmCGG"
      },
      "source": [
        "<hr>\n"
      ]
    },
    {
      "cell_type": "markdown",
      "metadata": {
        "id": "iw9n13CmmCGG"
      },
      "source": [
        "<h2 id=\"circle\">Creating an instance of a class Circle</h2>\n"
      ]
    },
    {
      "cell_type": "markdown",
      "metadata": {
        "id": "mvGuKfbimCGH"
      },
      "source": [
        "Let’s create the object <code>RedCircle</code> of type Circle to do the following:\n"
      ]
    },
    {
      "cell_type": "code",
      "metadata": {
        "id": "0wI3S2OimCGH"
      },
      "source": [
        "# Create an object RedCircle\n",
        "\n",
        "RedCircle = Circle(10, 'red')"
      ],
      "execution_count": 10,
      "outputs": []
    },
    {
      "cell_type": "markdown",
      "metadata": {
        "id": "7WvG7Oh4mCGH"
      },
      "source": [
        "We can use the <code>dir</code> command to get a list of the object's methods. Many of them are default Python methods.\n"
      ]
    },
    {
      "cell_type": "code",
      "metadata": {
        "colab": {
          "base_uri": "https://localhost:8080/"
        },
        "id": "Kbd2xlMRmCGH",
        "outputId": "12b33f23-1356-42fc-bddb-ef81dcef688a"
      },
      "source": [
        "# Find out the methods can be used on the object RedCircle\n",
        "\n",
        "dir(RedCircle)"
      ],
      "execution_count": 11,
      "outputs": [
        {
          "output_type": "execute_result",
          "data": {
            "text/plain": [
              "['__class__',\n",
              " '__delattr__',\n",
              " '__dict__',\n",
              " '__dir__',\n",
              " '__doc__',\n",
              " '__eq__',\n",
              " '__format__',\n",
              " '__ge__',\n",
              " '__getattribute__',\n",
              " '__gt__',\n",
              " '__hash__',\n",
              " '__init__',\n",
              " '__init_subclass__',\n",
              " '__le__',\n",
              " '__lt__',\n",
              " '__module__',\n",
              " '__ne__',\n",
              " '__new__',\n",
              " '__reduce__',\n",
              " '__reduce_ex__',\n",
              " '__repr__',\n",
              " '__setattr__',\n",
              " '__sizeof__',\n",
              " '__str__',\n",
              " '__subclasshook__',\n",
              " '__weakref__',\n",
              " 'add_radius',\n",
              " 'color',\n",
              " 'drawCircle',\n",
              " 'radius']"
            ]
          },
          "metadata": {},
          "execution_count": 11
        }
      ]
    },
    {
      "cell_type": "markdown",
      "metadata": {
        "id": "aTV02E7fmCGI"
      },
      "source": [
        "We can look at the data attributes of the object: \n"
      ]
    },
    {
      "cell_type": "code",
      "metadata": {
        "id": "6byu2pKdmCGI"
      },
      "source": [
        "# Print the object attribute radius\n",
        "\n",
        "RedCircle.radius"
      ],
      "execution_count": null,
      "outputs": []
    },
    {
      "cell_type": "code",
      "metadata": {
        "id": "D3q9J_gtmCGI"
      },
      "source": [
        "# Print the object attribute color\n",
        "\n",
        "RedCircle.color"
      ],
      "execution_count": null,
      "outputs": []
    },
    {
      "cell_type": "markdown",
      "metadata": {
        "id": "wr6JJu54mCGI"
      },
      "source": [
        " We can change the object's data attributes: \n"
      ]
    },
    {
      "cell_type": "code",
      "metadata": {
        "colab": {
          "base_uri": "https://localhost:8080/"
        },
        "id": "BEG2lvuUmCGJ",
        "outputId": "50d5c71b-5355-46e2-8e41-e96377081aa8"
      },
      "source": [
        "# Set the object attribute radius\n",
        "\n",
        "RedCircle.radius = 1\n",
        "RedCircle.radius"
      ],
      "execution_count": 12,
      "outputs": [
        {
          "output_type": "execute_result",
          "data": {
            "text/plain": [
              "1"
            ]
          },
          "metadata": {},
          "execution_count": 12
        }
      ]
    },
    {
      "cell_type": "markdown",
      "metadata": {
        "id": "mmS0d6iCmCGJ"
      },
      "source": [
        " We can draw the object by using the method <code>drawCircle()</code>:\n"
      ]
    },
    {
      "cell_type": "code",
      "metadata": {
        "colab": {
          "base_uri": "https://localhost:8080/",
          "height": 265
        },
        "id": "x8-piXiymCGJ",
        "outputId": "1d1cd905-b72c-4d23-9975-127fdc78ad95"
      },
      "source": [
        "# Call the method drawCircle\n",
        "\n",
        "RedCircle.drawCircle()"
      ],
      "execution_count": 13,
      "outputs": [
        {
          "output_type": "display_data",
          "data": {
            "image/png": "[encoded data removed]",
            "text/plain": [
              "<Figure size 432x288 with 1 Axes>"
            ]
          },
          "metadata": {
            "needs_background": "light"
          }
        }
      ]
    },
    {
      "cell_type": "markdown",
      "metadata": {
        "id": "x5oXdy39mCGJ"
      },
      "source": [
        "We can increase the radius of the circle by applying the method <code>add_radius()</code>. Let increases the radius by 2 and then by 5:  \n"
      ]
    },
    {
      "cell_type": "code",
      "metadata": {
        "colab": {
          "base_uri": "https://localhost:8080/"
        },
        "id": "TG0GncNqmCGJ",
        "outputId": "f60644f8-801d-440a-d51a-31e94cdc5fc6"
      },
      "source": [
        "# Use method to change the object attribute radius\n",
        "\n",
        "print('Radius of object:',RedCircle.radius)\n",
        "RedCircle.add_radius(2)\n",
        "print('Radius of object of after applying the method add_radius(2):',RedCircle.radius)\n",
        "RedCircle.add_radius(5)\n",
        "print('Radius of object of after applying the method add_radius(5):',RedCircle.radius)"
      ],
      "execution_count": 14,
      "outputs": [
        {
          "output_type": "stream",
          "name": "stdout",
          "text": [
            "Radius of object: 1\n",
            "Radius of object of after applying the method add_radius(2): 3\n",
            "Radius of object of after applying the method add_radius(5): 8\n"
          ]
        }
      ]
    },
    {
      "cell_type": "markdown",
      "metadata": {
        "id": "wsyAi6gDmCGK"
      },
      "source": [
        " Let’s  create a blue circle. As the default colour is blue, all we have to do is specify what the radius is:\n"
      ]
    },
    {
      "cell_type": "code",
      "metadata": {
        "id": "92qT24NRmCGK"
      },
      "source": [
        "# Create a blue circle with a given radius\n",
        "\n",
        "BlueCircle = Circle(radius=100)"
      ],
      "execution_count": 15,
      "outputs": []
    },
    {
      "cell_type": "markdown",
      "metadata": {
        "id": "zZaE1vbfmCGK"
      },
      "source": [
        " As before we can access the attributes of the instance of the class by using the dot notation:\n"
      ]
    },
    {
      "cell_type": "code",
      "metadata": {
        "colab": {
          "base_uri": "https://localhost:8080/"
        },
        "id": "gT5M4QkimCGK",
        "outputId": "07fc6add-8224-494b-dccb-6b5befbf665a"
      },
      "source": [
        "# Print the object attribute radius\n",
        "\n",
        "BlueCircle.radius"
      ],
      "execution_count": 16,
      "outputs": [
        {
          "output_type": "execute_result",
          "data": {
            "text/plain": [
              "100"
            ]
          },
          "metadata": {},
          "execution_count": 16
        }
      ]
    },
    {
      "cell_type": "code",
      "metadata": {
        "colab": {
          "base_uri": "https://localhost:8080/",
          "height": 36
        },
        "id": "nXN_5i-gmCGL",
        "outputId": "b1b382f0-d389-4a54-aa14-5fc45b52f242"
      },
      "source": [
        "# Print the object attribute color\n",
        "\n",
        "BlueCircle.color"
      ],
      "execution_count": 17,
      "outputs": [
        {
          "output_type": "execute_result",
          "data": {
            "application/vnd.google.colaboratory.intrinsic+json": {
              "type": "string"
            },
            "text/plain": [
              "'blue'"
            ]
          },
          "metadata": {},
          "execution_count": 17
        }
      ]
    },
    {
      "cell_type": "markdown",
      "metadata": {
        "id": "ZNspktd4mCGL"
      },
      "source": [
        " We can draw the object by using the method <code>drawCircle()</code>:\n"
      ]
    },
    {
      "cell_type": "code",
      "metadata": {
        "colab": {
          "base_uri": "https://localhost:8080/",
          "height": 265
        },
        "id": "EJOmtbo0mCGL",
        "outputId": "95336ce1-b9a8-4571-9711-63c837c3dc82"
      },
      "source": [
        "# Call the method drawCircle\n",
        "\n",
        "BlueCircle.drawCircle()"
      ],
      "execution_count": 18,
      "outputs": [
        {
          "output_type": "display_data",
          "data": {
            "image/png": "[encoded data removed]",
            "text/plain": [
              "<Figure size 432x288 with 1 Axes>"
            ]
          },
          "metadata": {
            "needs_background": "light"
          }
        }
      ]
    },
    {
      "cell_type": "markdown",
      "metadata": {
        "id": "azlmhANSmCGL"
      },
      "source": [
        "Compare the x and y axis of the figure to the figure  for <code>RedCircle</code>; they are different.\n"
      ]
    },
    {
      "cell_type": "markdown",
      "metadata": {
        "id": "14MVUyfrmCGL"
      },
      "source": [
        "<hr>\n"
      ]
    },
    {
      "cell_type": "markdown",
      "metadata": {
        "id": "XyMpp5dOmCGL"
      },
      "source": [
        "<h2 id=\"rect\">The Rectangle Class</h2>\n"
      ]
    },
    {
      "cell_type": "markdown",
      "metadata": {
        "id": "0wQ4Hjz3mCGM"
      },
      "source": [
        "Let's create a class rectangle with the attributes of height, width and color. We will only add the method to draw the rectangle object:\n"
      ]
    },
    {
      "cell_type": "code",
      "metadata": {
        "jupyter": {
          "outputs_hidden": true
        },
        "id": "ctbQK4DGmCGM"
      },
      "source": [
        "# Create a new Rectangle class for creating a rectangle object\n",
        "\n",
        "class Rectangle(object):\n",
        "    \n",
        "    # Constructor\n",
        "    def __init__(self, width=2, height=3, color='r'):\n",
        "        self.height = height \n",
        "        self.width = width\n",
        "        self.color = color\n",
        "    \n",
        "    # Method\n",
        "    def drawRectangle(self):\n",
        "        plt.gca().add_patch(plt.Rectangle((0, 0), self.width, self.height ,fc=self.color))\n",
        "        plt.axis('scaled')\n",
        "        plt.show()\n",
        "        "
      ],
      "execution_count": null,
      "outputs": []
    },
    {
      "cell_type": "markdown",
      "metadata": {
        "id": "PlG8mwxwmCGM"
      },
      "source": [
        "Let’s create the object <code>SkinnyBlueRectangle</code> of type Rectangle. Its width will be 2 and height will be 3, and the color will be blue:\n"
      ]
    },
    {
      "cell_type": "code",
      "metadata": {
        "id": "vrzPwKMnmCGM"
      },
      "source": [
        "# Create a new object rectangle\n",
        "\n",
        "SkinnyBlueRectangle = Rectangle(2, 10, 'blue')"
      ],
      "execution_count": null,
      "outputs": []
    },
    {
      "cell_type": "markdown",
      "metadata": {
        "id": "63oRrHgGmCGM"
      },
      "source": [
        " As before we can access the attributes of the instance of the class by using the dot notation:\n"
      ]
    },
    {
      "cell_type": "code",
      "metadata": {
        "id": "P3ifJEHVmCGN"
      },
      "source": [
        "# Print the object attribute height\n",
        "\n",
        "SkinnyBlueRectangle.height "
      ],
      "execution_count": null,
      "outputs": []
    },
    {
      "cell_type": "code",
      "metadata": {
        "id": "mPFrPTpWmCGN"
      },
      "source": [
        "# Print the object attribute width\n",
        "\n",
        "SkinnyBlueRectangle.width"
      ],
      "execution_count": null,
      "outputs": []
    },
    {
      "cell_type": "code",
      "metadata": {
        "id": "APqt6YFpmCGN"
      },
      "source": [
        "# Print the object attribute color\n",
        "\n",
        "SkinnyBlueRectangle.color"
      ],
      "execution_count": null,
      "outputs": []
    },
    {
      "cell_type": "markdown",
      "metadata": {
        "id": "RRgXBRLtmCGN"
      },
      "source": [
        " We can draw the object:\n"
      ]
    },
    {
      "cell_type": "code",
      "metadata": {
        "scrolled": true,
        "id": "ZiGS4BmxmCGN"
      },
      "source": [
        "# Use the drawRectangle method to draw the shape\n",
        "\n",
        "SkinnyBlueRectangle.drawRectangle()"
      ],
      "execution_count": null,
      "outputs": []
    },
    {
      "cell_type": "markdown",
      "metadata": {
        "id": "D12WBHUTmCGO"
      },
      "source": [
        "Let’s create the object <code>FatYellowRectangle</code> of type Rectangle :\n"
      ]
    },
    {
      "cell_type": "code",
      "metadata": {
        "jupyter": {
          "outputs_hidden": true
        },
        "id": "RGBU2HQrmCGO"
      },
      "source": [
        "# Create a new object rectangle\n",
        "\n",
        "FatYellowRectangle = Rectangle(20, 5, 'yellow')"
      ],
      "execution_count": null,
      "outputs": []
    },
    {
      "cell_type": "markdown",
      "metadata": {
        "id": "SiDDfNr7mCGO"
      },
      "source": [
        " We can access the attributes of the instance of the class by using the dot notation:\n"
      ]
    },
    {
      "cell_type": "code",
      "metadata": {
        "id": "eG3dagMfmCGO"
      },
      "source": [
        "# Print the object attribute height\n",
        "\n",
        "FatYellowRectangle.height "
      ],
      "execution_count": null,
      "outputs": []
    },
    {
      "cell_type": "code",
      "metadata": {
        "id": "jKgvBtfTmCGO"
      },
      "source": [
        "# Print the object attribute width\n",
        "\n",
        "FatYellowRectangle.width"
      ],
      "execution_count": null,
      "outputs": []
    },
    {
      "cell_type": "code",
      "metadata": {
        "id": "EFiGCWlsmCGP"
      },
      "source": [
        "# Print the object attribute color\n",
        "\n",
        "FatYellowRectangle.color"
      ],
      "execution_count": null,
      "outputs": []
    },
    {
      "cell_type": "markdown",
      "metadata": {
        "id": "SPi0fMHJmCGP"
      },
      "source": [
        " We can draw the object:\n"
      ]
    },
    {
      "cell_type": "code",
      "metadata": {
        "id": "jtBeUfSemCGP"
      },
      "source": [
        "# Use the drawRectangle method to draw the shape\n",
        "\n",
        "FatYellowRectangle.drawRectangle()"
      ],
      "execution_count": null,
      "outputs": []
    },
    {
      "cell_type": "markdown",
      "metadata": {
        "id": "AO8Ji4ramCGP"
      },
      "source": [
        "<hr>\n"
      ]
    },
    {
      "cell_type": "markdown",
      "metadata": {
        "id": "Sj9DlCqlmCGP"
      },
      "source": [
        "<h2 id=\"rect\">Exercises</h2>\n"
      ]
    },
    {
      "cell_type": "markdown",
      "metadata": {
        "id": "WHqkCqMPmCGP"
      },
      "source": [
        "<h4> Text Analysis </h4>\n"
      ]
    },
    {
      "cell_type": "markdown",
      "metadata": {
        "id": "gtai0JQAmCGP"
      },
      "source": [
        "You have been recruited by your friend, a linguistics enthusiast, to create a utility tool that can perform analysis on a given piece of text. Complete the class\n",
        "'analysedText' with the following methods -\n",
        "\n",
        "<ul>\n",
        "    <li> Constructor - Takes argument 'text',makes it lower case and removes all punctuation. Assume only the following punctuation is used - period (.), exclamation mark (!), comma (,) and question mark (?). Store the argument in \"fmtText\"      \n",
        "    <li> freqAll - returns a dictionary of all unique words in the text along with the number of their occurences.\n",
        "    <li> freqOf - returns the frequency of the word passed in argument.\n",
        "</ul>\n",
        " The skeleton code has been given to you. Docstrings can be ignored for the purpose of the exercise. <br>\n",
        " <i> Hint: Some useful functions are <code>replace()</code>, <code>lower()</code>, <code>split()</code>, <code>count()</code> </i><br>\n"
      ]
    },
    {
      "cell_type": "code",
      "metadata": {
        "id": "NU2EYF78mCGQ"
      },
      "source": [
        "class analysedText(object):\n",
        "    \n",
        "    def __init__ (self, text):\n",
        "        tmp=text.replace('.','').replace('!','').replace(',','').replace('?','')\n",
        "        self.fmtText=tmp.lower()\n",
        "    \n",
        "    def freqAll(self):        \n",
        "        wordlist=self.fmtText.split(' ')\n",
        "        dic ={}\n",
        "        for word in set(wordlist):\n",
        "          dic[word]=wordlist.count(word)  \n",
        "        return dic\n",
        "    def freqOf(self,word):\n",
        "        dic=self.freqAll()\n",
        "        if word in dic:\n",
        "          return dic[word]\n",
        "        else: \n",
        "          return 0\n",
        "        "
      ],
      "execution_count": 21,
      "outputs": []
    },
    {
      "cell_type": "markdown",
      "metadata": {
        "id": "uGy_LHuhmCGQ"
      },
      "source": [
        "Execute the block below to check your progress.\n"
      ]
    },
    {
      "cell_type": "code",
      "metadata": {
        "colab": {
          "base_uri": "https://localhost:8080/"
        },
        "id": "eENK6j7mmCGQ",
        "outputId": "780376b1-c68d-4b0c-986d-cc7d6e0f2b41"
      },
      "source": [
        "import sys\n",
        "\n",
        "sampleMap = {'eirmod': 1,'sed': 1, 'amet': 2, 'diam': 5, 'consetetur': 1, 'labore': 1, 'tempor': 1, 'dolor': 1, 'magna': 2, 'et': 3, 'nonumy': 1, 'ipsum': 1, 'lorem': 2}\n",
        "\n",
        "def testMsg(passed):\n",
        "    if passed:\n",
        "       return 'Test Passed'\n",
        "    else :\n",
        "       return 'Test Failed'\n",
        "\n",
        "print(\"Constructor: \")\n",
        "try:\n",
        "    samplePassage = analysedText(\"Lorem ipsum dolor! diam amet, consetetur Lorem magna. sed diam nonumy eirmod tempor. diam et labore? et diam magna. et diam amet.\")\n",
        "    print(testMsg(samplePassage.fmtText == \"lorem ipsum dolor diam amet consetetur lorem magna sed diam nonumy eirmod tempor diam et labore et diam magna et diam amet\"))\n",
        "except:\n",
        "    print(\"Error detected. Recheck your function \" )\n",
        "print(\"freqAll: \")\n",
        "try:\n",
        "    wordMap = samplePassage.freqAll()\n",
        "    print(testMsg(wordMap==sampleMap))\n",
        "except:\n",
        "    print(\"Error detected. Recheck your function \" )\n",
        "print(\"freqOf: \")\n",
        "try:\n",
        "    passed = True\n",
        "    for word in sampleMap:\n",
        "        if samplePassage.freqOf(word) != sampleMap[word]:\n",
        "            passed = False\n",
        "            break\n",
        "    print(testMsg(passed))\n",
        "    \n",
        "except:\n",
        "    print(\"Error detected. Recheck your function  \" )\n",
        "    "
      ],
      "execution_count": 22,
      "outputs": [
        {
          "output_type": "stream",
          "name": "stdout",
          "text": [
            "Constructor: \n",
            "Test Passed\n",
            "freqAll: \n",
            "Test Passed\n",
            "freqOf: \n",
            "Test Passed\n"
          ]
        }
      ]
    },
    {
      "cell_type": "markdown",
      "metadata": {
        "id": "lqH2TeLumCGQ"
      },
      "source": [
        "<details><summary>Click here for the solution</summary>\n",
        "\n",
        "```python\n",
        "class analysedText(object):\n",
        "    \n",
        "    def __init__ (self, text):\n",
        "        # remove punctuation\n",
        "        formattedText = text.replace('.','').replace('!','').replace('?','').replace(',','')\n",
        "        \n",
        "        # make text lowercase\n",
        "        formattedText = formattedText.lower()\n",
        "        \n",
        "        self.fmtText = formattedText\n",
        "        \n",
        "    def freqAll(self):        \n",
        "        # split text into words\n",
        "        wordList = self.fmtText.split(' ')\n",
        "        \n",
        "        # Create dictionary\n",
        "        freqMap = {}\n",
        "        for word in set(wordList): # use set to remove duplicates in list\n",
        "            freqMap[word] = wordList.count(word)\n",
        "        \n",
        "        return freqMap\n",
        "    \n",
        "    def freqOf(self,word):\n",
        "        # get frequency map\n",
        "        freqDict = self.freqAll()\n",
        "        \n",
        "        if word in freqDict:\n",
        "            return freqDict[word]\n",
        "        else:\n",
        "            return 0\n",
        "    \n",
        "```\n",
        "\n",
        "</details>\n",
        "         \n"
      ]
    },
    {
      "cell_type": "markdown",
      "metadata": {
        "id": "77Tjg2WQmCGR"
      },
      "source": [
        "<hr>\n",
        "<h2>The last exercise!</h2>\n",
        "<p>Congratulations, you have completed your first lesson and hands-on lab in Python. However, there is one more thing you need to do. The Data Science community encourages sharing work. The best way to share and showcase your work is to share it on GitHub. By sharing your notebook on GitHub you are not only building your reputation with fellow data scientists, but you can also show it off when applying for a job. Even though this was your first piece of work, it is never too early to start building good habits. So, please read and follow <a href=\"https://cognitiveclass.ai/blog/data-scientists-stand-out-by-sharing-your-notebooks/\" target=\"_blank\">this article</a> to learn how to share your work.\n",
        "<hr>\n"
      ]
    },
    {
      "cell_type": "markdown",
      "metadata": {
        "id": "Bb8wERp8mCGR"
      },
      "source": [
        "## Author\n",
        "\n",
        "<a href=\"https://www.linkedin.com/in/joseph-s-50398b136/\" target=\"_blank\">Joseph Santarcangelo</a>\n",
        "\n",
        "## Other contributors\n",
        "\n",
        "<a href=\"www.linkedin.com/in/jiahui-mavis-zhou-a4537814a\">Mavis Zhou</a>\n",
        "\n",
        "## Change Log\n",
        "\n",
        "| Date (YYYY-MM-DD) | Version | Changed By | Change Description                 |\n",
        "| ----------------- | ------- | ---------- | ---------------------------------- |\n",
        "| 2020-08-26        | 2.0     | Lavanya    | Moved lab to course repo in GitLab |\n",
        "|                   |         |            |                                    |\n",
        "|                   |         |            |                                    |\n",
        "\n",
        "<hr/>\n",
        "\n",
        "## <h3 align=\"center\"> © IBM Corporation 2020. All rights reserved. <h3/>\n"
      ]
    }
  ]
}