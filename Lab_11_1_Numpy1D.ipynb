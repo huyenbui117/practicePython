{
  "nbformat": 4,
  "nbformat_minor": 0,
  "metadata": {
    "kernelspec": {
      "display_name": "Python 3",
      "language": "python",
      "name": "python3"
    },
    "language_info": {
      "codemirror_mode": {
        "name": "ipython",
        "version": 3
      },
      "file_extension": ".py",
      "mimetype": "text/x-python",
      "name": "python",
      "nbconvert_exporter": "python",
      "pygments_lexer": "ipython3",
      "version": "3.7.6"
    },
    "colab": {
      "name": "Lab 11.1-Numpy1D.ipynb",
      "provenance": [],
      "include_colab_link": true
    }
  },
  "cells": [
    {
      "cell_type": "markdown",
      "metadata": {
        "id": "view-in-github",
        "colab_type": "text"
      },
      "source": [
        "<a href=\"https://colab.research.google.com/github/huyenbui117/practicePython/blob/main/Lab_11_1_Numpy1D.ipynb\" target=\"_parent\"><img src=\"https://colab.research.google.com/assets/colab-badge.svg\" alt=\"Open In Colab\"/></a>"
      ]
    },
    {
      "cell_type": "markdown",
      "metadata": {
        "id": "ZDcbSEp_Wbc0"
      },
      "source": [
        "<center>\n",
        "    <img src=\"https://cf-courses-data.s3.us.cloud-object-storage.appdomain.cloud/IBMDeveloperSkillsNetwork-PY0101EN-SkillsNetwork/IDSNlogo.png\" width=\"300\" alt=\"cognitiveclass.ai logo\"  />\n",
        "</center>\n",
        "\n",
        "# 1D Numpy in Python\n",
        "\n",
        "Estimated time needed: **30** minutes\n",
        "\n",
        "## Objectives\n",
        "\n",
        "After completing this lab you will be able to:\n",
        "\n",
        "-   Import and use `numpy` library\n",
        "-   Perform operations with `numpy`\n"
      ]
    },
    {
      "cell_type": "markdown",
      "metadata": {
        "id": "xncvnkQ3Wbc_"
      },
      "source": [
        "<h2>Table of Contents</h2>\n",
        "<div class=\"alert alert-block alert-info\" style=\"margin-top: 20px\">\n",
        "    <ul>\n",
        "        <li><a href=\"pre\">Preparation</a></li>\n",
        "        <li>\n",
        "            <a href=\"numpy\">What is Numpy?</a>\n",
        "            <ul>\n",
        "                <li><a href=\"type\">Type</a></li>\n",
        "                <li><a href=\"val\">Assign Value</a></li>\n",
        "                <li><a href=\"slice\">Slicing</a></li>\n",
        "                <li><a href=\"list\">Assign Value with List</a></li>\n",
        "                <li><a href=\"other\">Other Attributes</a></li>\n",
        "            </ul>\n",
        "        </li>\n",
        "        <li>\n",
        "            <a href=\"op\">Numpy Array Operations</a>\n",
        "            <ul>\n",
        "                <li><a href=\"add\">Array Addition</a></li>\n",
        "                <li><a href=\"multi\">Array Multiplication</a></li>\n",
        "                <li><a href=\"prod\">Product of Two Numpy Arrays</a></li>\n",
        "                <li><a href=\"dot\">Dot Product</a></li>\n",
        "                <li><a href=\"cons\">Adding Constant to a Numpy Array</a></li>\n",
        "            </ul>\n",
        "        </li>\n",
        "        <li><a href=\"math\">Mathematical Functions</a></li>\n",
        "        <li><a href=\"lin\">Linspace</a></li>\n",
        "    </ul>\n",
        "\n",
        "</div>\n",
        "\n",
        "<hr>\n"
      ]
    },
    {
      "cell_type": "markdown",
      "metadata": {
        "id": "qAIoREH_WbdB"
      },
      "source": [
        "<h2 id=\"pre\">Preparation</h2>\n"
      ]
    },
    {
      "cell_type": "code",
      "metadata": {
        "collapsed": true,
        "id": "d_muOukUWbdB"
      },
      "source": [
        "# Import the libraries\n",
        "\n",
        "import time \n",
        "import sys\n",
        "import numpy as np \n",
        "\n",
        "import matplotlib.pyplot as plt\n",
        "%matplotlib inline  "
      ],
      "execution_count": null,
      "outputs": []
    },
    {
      "cell_type": "code",
      "metadata": {
        "id": "FksVo37_WbdC"
      },
      "source": [
        "# Plotting functions\n",
        "\n",
        "def Plotvec1(u, z, v):\n",
        "    \n",
        "    ax = plt.axes()\n",
        "    ax.arrow(0, 0, *u, head_width=0.05, color='r', head_length=0.1)\n",
        "    plt.text(*(u + 0.1), 'u')\n",
        "    \n",
        "    ax.arrow(0, 0, *v, head_width=0.05, color='b', head_length=0.1)\n",
        "    plt.text(*(v + 0.1), 'v')\n",
        "    ax.arrow(0, 0, *z, head_width=0.05, head_length=0.1)\n",
        "    plt.text(*(z + 0.1), 'z')\n",
        "    plt.ylim(-2, 2)\n",
        "    plt.xlim(-2, 2)\n",
        "\n",
        "def Plotvec2(a,b):\n",
        "    ax = plt.axes()\n",
        "    ax.arrow(0, 0, *a, head_width=0.05, color ='r', head_length=0.1)\n",
        "    plt.text(*(a + 0.1), 'a')\n",
        "    ax.arrow(0, 0, *b, head_width=0.05, color ='b', head_length=0.1)\n",
        "    plt.text(*(b + 0.1), 'b')\n",
        "    plt.ylim(-2, 2)\n",
        "    plt.xlim(-2, 2)"
      ],
      "execution_count": null,
      "outputs": []
    },
    {
      "cell_type": "markdown",
      "metadata": {
        "id": "LDRTGZKXWbdD"
      },
      "source": [
        "Create a Python List as follows:\n"
      ]
    },
    {
      "cell_type": "code",
      "metadata": {
        "id": "54-RaQ5YWbdD"
      },
      "source": [
        "# Create a python list\n",
        "\n",
        "a = [\"0\", 1, \"two\", \"3\", 4]"
      ],
      "execution_count": null,
      "outputs": []
    },
    {
      "cell_type": "markdown",
      "metadata": {
        "id": "_ySY33arWbdD"
      },
      "source": [
        "We can access the data via an index:\n"
      ]
    },
    {
      "cell_type": "markdown",
      "metadata": {
        "id": "uhddELRAWbdE"
      },
      "source": [
        "<img src=\"https://cf-courses-data.s3.us.cloud-object-storage.appdomain.cloud/IBMDeveloperSkillsNetwork-PY0101EN-SkillsNetwork/labs/Module%205/images/NumOneList.png\" width=\"660\" />\n"
      ]
    },
    {
      "cell_type": "markdown",
      "metadata": {
        "id": "tGLAhAaJWbdE"
      },
      "source": [
        "We can access each element using a square bracket as follows: \n"
      ]
    },
    {
      "cell_type": "code",
      "metadata": {
        "id": "UI-N_yQtWbdE"
      },
      "source": [
        "# Print each element\n",
        "\n",
        "print(\"a[0]:\", a[0])\n",
        "print(\"a[1]:\", a[1])\n",
        "print(\"a[2]:\", a[2])\n",
        "print(\"a[3]:\", a[3])\n",
        "print(\"a[4]:\", a[4])"
      ],
      "execution_count": null,
      "outputs": []
    },
    {
      "cell_type": "markdown",
      "metadata": {
        "id": "SaPg-5XxWbdF"
      },
      "source": [
        "<hr>\n"
      ]
    },
    {
      "cell_type": "markdown",
      "metadata": {
        "id": "1xV57qobWbdF"
      },
      "source": [
        "<h2 id=\"numpy\">What is Numpy?</h2>\n"
      ]
    },
    {
      "cell_type": "markdown",
      "metadata": {
        "id": "rrXk-UebWbdF"
      },
      "source": [
        "A numpy array is similar to a list. It's usually fixed in size and each element is of the same type. We can cast a list to a numpy array by first importing numpy: \n"
      ]
    },
    {
      "cell_type": "code",
      "metadata": {
        "id": "qZMGL58vWbdF"
      },
      "source": [
        "# import numpy library\n",
        "\n",
        "import numpy as np "
      ],
      "execution_count": null,
      "outputs": []
    },
    {
      "cell_type": "markdown",
      "metadata": {
        "id": "JAO8o4R9WbdG"
      },
      "source": [
        " We then cast the list as follows:\n"
      ]
    },
    {
      "cell_type": "code",
      "metadata": {
        "id": "gFb7_FJzWbdG"
      },
      "source": [
        "# Create a numpy array\n",
        "\n",
        "a = np.array([0, 1, 2, 3, 4])\n",
        "a"
      ],
      "execution_count": null,
      "outputs": []
    },
    {
      "cell_type": "markdown",
      "metadata": {
        "id": "L5vfajYmWbdG"
      },
      "source": [
        "Each element is of the same type, in this case integers: \n"
      ]
    },
    {
      "cell_type": "markdown",
      "metadata": {
        "id": "T3R1w5VfWbdG"
      },
      "source": [
        "<img src=\"https://cf-courses-data.s3.us.cloud-object-storage.appdomain.cloud/IBMDeveloperSkillsNetwork-PY0101EN-SkillsNetwork/labs/Module%205/images/NumOneNp.png\" width=\"500\" />\n"
      ]
    },
    {
      "cell_type": "markdown",
      "metadata": {
        "id": "t42SyA0ZWbdG"
      },
      "source": [
        " As with lists, we can access each element via a square bracket:\n"
      ]
    },
    {
      "cell_type": "code",
      "metadata": {
        "id": "2nIuzl2JWbdH"
      },
      "source": [
        "# Print each element\n",
        "\n",
        "print(\"a[0]:\", a[0])\n",
        "print(\"a[1]:\", a[1])\n",
        "print(\"a[2]:\", a[2])\n",
        "print(\"a[3]:\", a[3])\n",
        "print(\"a[4]:\", a[4])"
      ],
      "execution_count": null,
      "outputs": []
    },
    {
      "cell_type": "markdown",
      "metadata": {
        "id": "9iGjJz1dWbdH"
      },
      "source": [
        "<h3 id=\"type\">Type</h3>\n"
      ]
    },
    {
      "cell_type": "markdown",
      "metadata": {
        "id": "Yj0g5tTdWbdH"
      },
      "source": [
        "If we check the type of the array we get <b>numpy.ndarray</b>:\n"
      ]
    },
    {
      "cell_type": "code",
      "metadata": {
        "id": "DneQCOvIWbdH"
      },
      "source": [
        "# Check the type of the array\n",
        "\n",
        "type(a)"
      ],
      "execution_count": null,
      "outputs": []
    },
    {
      "cell_type": "markdown",
      "metadata": {
        "id": "zQr2JaoIWbdI"
      },
      "source": [
        "As numpy arrays contain data of the same type, we can use the attribute \"dtype\" to obtain the Data-type of the array’s elements. In this case a 64-bit integer: \n"
      ]
    },
    {
      "cell_type": "code",
      "metadata": {
        "id": "Iw-UdpcAWbdI"
      },
      "source": [
        "# Check the type of the values stored in numpy array\n",
        "\n",
        "a.dtype"
      ],
      "execution_count": null,
      "outputs": []
    },
    {
      "cell_type": "markdown",
      "metadata": {
        "id": "gyYqet1KWbdI"
      },
      "source": [
        "We can create a numpy array with real numbers:\n"
      ]
    },
    {
      "cell_type": "code",
      "metadata": {
        "id": "h7O54_SxWbdI"
      },
      "source": [
        "# Create a numpy array\n",
        "\n",
        "b = np.array([3.1, 11.02, 6.2, 213.2, 5.2])"
      ],
      "execution_count": null,
      "outputs": []
    },
    {
      "cell_type": "markdown",
      "metadata": {
        "id": "5cGsL3iuWbdJ"
      },
      "source": [
        "When we check the type of the array we get <b>numpy.ndarray</b>:\n"
      ]
    },
    {
      "cell_type": "code",
      "metadata": {
        "id": "TiahoKv6WbdJ"
      },
      "source": [
        "# Check the type of array\n",
        "\n",
        "type(b)"
      ],
      "execution_count": null,
      "outputs": []
    },
    {
      "cell_type": "markdown",
      "metadata": {
        "id": "tuqGWljmWbdJ"
      },
      "source": [
        "If we examine the attribute <code>dtype</code> we see float 64, as the elements are not integers: \n"
      ]
    },
    {
      "cell_type": "code",
      "metadata": {
        "id": "qQ_9LX4CWbdJ"
      },
      "source": [
        "# Check the value type\n",
        "\n",
        "b.dtype"
      ],
      "execution_count": null,
      "outputs": []
    },
    {
      "cell_type": "markdown",
      "metadata": {
        "id": "dYoL4LYXWbdJ"
      },
      "source": [
        "<h3 id=\"val\">Assign value</h3>\n"
      ]
    },
    {
      "cell_type": "markdown",
      "metadata": {
        "id": "k_lbrW79WbdK"
      },
      "source": [
        "We can change the value of the array, consider the array <code>c</code>:\n"
      ]
    },
    {
      "cell_type": "code",
      "metadata": {
        "id": "W3KQpH5GWbdK"
      },
      "source": [
        "# Create numpy array\n",
        "\n",
        "c = np.array([20, 1, 2, 3, 4])\n",
        "c"
      ],
      "execution_count": null,
      "outputs": []
    },
    {
      "cell_type": "markdown",
      "metadata": {
        "id": "UMJTWc2jWbdK"
      },
      "source": [
        "We can change the first element of the array to 100 as follows:\n"
      ]
    },
    {
      "cell_type": "code",
      "metadata": {
        "id": "UMpzZFS8WbdL"
      },
      "source": [
        "# Assign the first element to 100\n",
        "\n",
        "c[0] = 100\n",
        "c"
      ],
      "execution_count": null,
      "outputs": []
    },
    {
      "cell_type": "markdown",
      "metadata": {
        "id": "rH3RTBc7WbdL"
      },
      "source": [
        "We can change the 5th element of the array to 0 as follows:\n"
      ]
    },
    {
      "cell_type": "code",
      "metadata": {
        "id": "gZQao_BNWbdL"
      },
      "source": [
        "# Assign the 5th element to 0\n",
        "\n",
        "c[4] = 0\n",
        "c"
      ],
      "execution_count": null,
      "outputs": []
    },
    {
      "cell_type": "markdown",
      "metadata": {
        "id": "LmLrGsNEWbdL"
      },
      "source": [
        "<h3 id=\"slice\">Slicing</h3>\n"
      ]
    },
    {
      "cell_type": "markdown",
      "metadata": {
        "id": "Y_kTFnhqWbdL"
      },
      "source": [
        "Like lists, we can slice the numpy array, and we can select the elements from 1 to 3 and assign it to a new numpy array <code>d</code> as follows:\n"
      ]
    },
    {
      "cell_type": "code",
      "metadata": {
        "id": "WR89dXcPWbdM"
      },
      "source": [
        "# Slicing the numpy array\n",
        "\n",
        "d = c[1:4]\n",
        "d"
      ],
      "execution_count": null,
      "outputs": []
    },
    {
      "cell_type": "markdown",
      "metadata": {
        "id": "meFrelu2WbdM"
      },
      "source": [
        "We can assign the corresponding indexes to  new values as follows: \n"
      ]
    },
    {
      "cell_type": "code",
      "metadata": {
        "id": "IJnOmcK6WbdM"
      },
      "source": [
        "# Set the fourth element and fifth element to 300 and 400\n",
        "\n",
        "c[3:5] = 300, 400\n",
        "c"
      ],
      "execution_count": null,
      "outputs": []
    },
    {
      "cell_type": "markdown",
      "metadata": {
        "id": "iOFlHEsMWbdM"
      },
      "source": [
        "<h3 id=\"list\">Assign Value with List</h3>\n"
      ]
    },
    {
      "cell_type": "markdown",
      "metadata": {
        "id": "ovsb5gSOWbdM"
      },
      "source": [
        "Similarly, we can use a list to select a specific index.\n",
        "The list ' select ' contains several values:\n"
      ]
    },
    {
      "cell_type": "code",
      "metadata": {
        "collapsed": true,
        "id": "ZCuBz21kWbdM"
      },
      "source": [
        "# Create the index list\n",
        "\n",
        "select = [0, 2, 3]"
      ],
      "execution_count": null,
      "outputs": []
    },
    {
      "cell_type": "markdown",
      "metadata": {
        "id": "EMOyd1wLWbdN"
      },
      "source": [
        "We can use the list as an argument in the brackets. The output is the elements corresponding to the particular index:\n"
      ]
    },
    {
      "cell_type": "code",
      "metadata": {
        "id": "UWrRWot8WbdN"
      },
      "source": [
        "# Use List to select elements\n",
        "\n",
        "d = c[select]\n",
        "d"
      ],
      "execution_count": null,
      "outputs": []
    },
    {
      "cell_type": "markdown",
      "metadata": {
        "id": "-3gH7Wv7WbdO"
      },
      "source": [
        "We can assign the specified elements to a new value. For example, we can assign the values to 100 000 as follows:\n"
      ]
    },
    {
      "cell_type": "code",
      "metadata": {
        "id": "vxadh76sWbdO"
      },
      "source": [
        "# Assign the specified elements to new value\n",
        "\n",
        "c[select] = 100000\n",
        "c"
      ],
      "execution_count": null,
      "outputs": []
    },
    {
      "cell_type": "markdown",
      "metadata": {
        "id": "LbPT793tWbdO"
      },
      "source": [
        "<h3 id=\"other\">Other Attributes</h3>\n"
      ]
    },
    {
      "cell_type": "markdown",
      "metadata": {
        "id": "1sE0P2N6WbdO"
      },
      "source": [
        "Let's review some basic array attributes using the array <code>a</code>:\n"
      ]
    },
    {
      "cell_type": "code",
      "metadata": {
        "id": "SWfFpNlnWbdO"
      },
      "source": [
        "# Create a numpy array\n",
        "\n",
        "a = np.array([0, 1, 2, 3, 4])\n",
        "a"
      ],
      "execution_count": null,
      "outputs": []
    },
    {
      "cell_type": "markdown",
      "metadata": {
        "id": "J_FhP3XvWbdP"
      },
      "source": [
        "The attribute <code>size</code> is the number of elements in the array:\n"
      ]
    },
    {
      "cell_type": "code",
      "metadata": {
        "id": "V2RX49xDWbdP"
      },
      "source": [
        "# Get the size of numpy array\n",
        "\n",
        "a.size"
      ],
      "execution_count": null,
      "outputs": []
    },
    {
      "cell_type": "markdown",
      "metadata": {
        "id": "jfHmcy-UWbdP"
      },
      "source": [
        "The next two attributes will make more sense when we get to higher dimensions but let's review them. The attribute <code>ndim</code> represents the number of array dimensions or the rank of the array, in this case, one:\n"
      ]
    },
    {
      "cell_type": "code",
      "metadata": {
        "id": "fCw0RRreWbdP"
      },
      "source": [
        "# Get the number of dimensions of numpy array\n",
        "\n",
        "a.ndim"
      ],
      "execution_count": null,
      "outputs": []
    },
    {
      "cell_type": "markdown",
      "metadata": {
        "id": "hePObb_xWbdP"
      },
      "source": [
        "The attribute <code>shape</code> is a tuple of integers indicating the size of the array in each dimension:\n"
      ]
    },
    {
      "cell_type": "code",
      "metadata": {
        "id": "zDsXXdvTWbdQ"
      },
      "source": [
        "# Get the shape/size of numpy array\n",
        "\n",
        "a.shape"
      ],
      "execution_count": null,
      "outputs": []
    },
    {
      "cell_type": "code",
      "metadata": {
        "collapsed": true,
        "id": "kaO0xsr8WbdQ"
      },
      "source": [
        "# Create a numpy array\n",
        "\n",
        "a = np.array([1, -1, 1, -1])"
      ],
      "execution_count": null,
      "outputs": []
    },
    {
      "cell_type": "code",
      "metadata": {
        "id": "OWVL_r07WbdQ"
      },
      "source": [
        "# Get the mean of numpy array\n",
        "\n",
        "mean = a.mean()\n",
        "mean"
      ],
      "execution_count": null,
      "outputs": []
    },
    {
      "cell_type": "code",
      "metadata": {
        "id": "q4BCnEucWbdQ"
      },
      "source": [
        "# Get the standard deviation of numpy array\n",
        "\n",
        "standard_deviation=a.std()\n",
        "standard_deviation"
      ],
      "execution_count": null,
      "outputs": []
    },
    {
      "cell_type": "code",
      "metadata": {
        "id": "t2Ll4gs6WbdQ"
      },
      "source": [
        "# Create a numpy array\n",
        "\n",
        "b = np.array([-1, 2, 3, 4, 5])\n",
        "b"
      ],
      "execution_count": null,
      "outputs": []
    },
    {
      "cell_type": "code",
      "metadata": {
        "id": "rEVf0cD-WbdR"
      },
      "source": [
        "# Get the biggest value in the numpy array\n",
        "\n",
        "max_b = b.max()\n",
        "max_b"
      ],
      "execution_count": null,
      "outputs": []
    },
    {
      "cell_type": "code",
      "metadata": {
        "id": "Mh5PWUJ5WbdR"
      },
      "source": [
        "# Get the smallest value in the numpy array\n",
        "\n",
        "min_b = b.min()\n",
        "min_b"
      ],
      "execution_count": null,
      "outputs": []
    },
    {
      "cell_type": "markdown",
      "metadata": {
        "id": "7NnbciU5WbdR"
      },
      "source": [
        "<hr>\n"
      ]
    },
    {
      "cell_type": "markdown",
      "metadata": {
        "id": "24_Sz15SWbdR"
      },
      "source": [
        "<h2 id=\"op\">Numpy Array Operations</h2>\n"
      ]
    },
    {
      "cell_type": "markdown",
      "metadata": {
        "id": "XSbg6xSUWbdR"
      },
      "source": [
        "<h3 id=\"add\">Array Addition</h3>\n"
      ]
    },
    {
      "cell_type": "markdown",
      "metadata": {
        "id": "Y1oqCfA9WbdR"
      },
      "source": [
        "Consider the numpy array <code>u</code>:\n"
      ]
    },
    {
      "cell_type": "code",
      "metadata": {
        "id": "pi8f-lhhWbdS"
      },
      "source": [
        "u = np.array([1, 0])\n",
        "u"
      ],
      "execution_count": null,
      "outputs": []
    },
    {
      "cell_type": "markdown",
      "metadata": {
        "id": "420Tfm0nWbdS"
      },
      "source": [
        "Consider the numpy array <code>v</code>:\n"
      ]
    },
    {
      "cell_type": "code",
      "metadata": {
        "id": "lte20I6-WbdS"
      },
      "source": [
        "v = np.array([0, 1])\n",
        "v"
      ],
      "execution_count": null,
      "outputs": []
    },
    {
      "cell_type": "markdown",
      "metadata": {
        "id": "LJNvk2MZWbdS"
      },
      "source": [
        "We can add the two arrays and assign it to z:\n"
      ]
    },
    {
      "cell_type": "code",
      "metadata": {
        "id": "d6QXHhoWWbdT"
      },
      "source": [
        "# Numpy Array Addition\n",
        "\n",
        "z = u + v\n",
        "z"
      ],
      "execution_count": null,
      "outputs": []
    },
    {
      "cell_type": "markdown",
      "metadata": {
        "id": "SgJUBd3GWbdT"
      },
      "source": [
        " The operation is equivalent to vector addition:\n"
      ]
    },
    {
      "cell_type": "code",
      "metadata": {
        "id": "L0-ken1cWbdT"
      },
      "source": [
        "# Plot numpy arrays\n",
        "\n",
        "Plotvec1(u, z, v)"
      ],
      "execution_count": null,
      "outputs": []
    },
    {
      "cell_type": "markdown",
      "metadata": {
        "id": "LX50wf36WbdU"
      },
      "source": [
        "<h3 id=\"multi\">Array Multiplication</h3>\n"
      ]
    },
    {
      "cell_type": "markdown",
      "metadata": {
        "id": "tEMVzCOTWbdU"
      },
      "source": [
        "Consider the vector numpy array <code>y</code>:\n"
      ]
    },
    {
      "cell_type": "code",
      "metadata": {
        "id": "WiHKb9jkWbdU"
      },
      "source": [
        "# Create a numpy array\n",
        "\n",
        "y = np.array([1, 2])\n",
        "y"
      ],
      "execution_count": null,
      "outputs": []
    },
    {
      "cell_type": "markdown",
      "metadata": {
        "id": "IBCCWU3mWbdU"
      },
      "source": [
        "We can multiply every element in the array by 2:\n"
      ]
    },
    {
      "cell_type": "code",
      "metadata": {
        "id": "togmrZ_vWbdU"
      },
      "source": [
        "# Numpy Array Multiplication\n",
        "\n",
        "z = 2 * y\n",
        "z"
      ],
      "execution_count": null,
      "outputs": []
    },
    {
      "cell_type": "markdown",
      "metadata": {
        "id": "E6PRz-4CWbdU"
      },
      "source": [
        " This is equivalent to multiplying a vector by a scaler: \n"
      ]
    },
    {
      "cell_type": "markdown",
      "metadata": {
        "id": "4FEwCQyjWbdV"
      },
      "source": [
        "<h3 id=\"prod\">Product of Two Numpy Arrays</h3>\n"
      ]
    },
    {
      "cell_type": "markdown",
      "metadata": {
        "id": "bGyHD1gVWbdV"
      },
      "source": [
        "Consider the following array <code>u</code>:\n"
      ]
    },
    {
      "cell_type": "code",
      "metadata": {
        "id": "wyJBTT-XWbdV"
      },
      "source": [
        "# Create a numpy array\n",
        "\n",
        "u = np.array([1, 2])\n",
        "u"
      ],
      "execution_count": null,
      "outputs": []
    },
    {
      "cell_type": "markdown",
      "metadata": {
        "id": "gKE7ctljWbdV"
      },
      "source": [
        "Consider the following array <code>v</code>:\n"
      ]
    },
    {
      "cell_type": "code",
      "metadata": {
        "id": "rIU6XZbeWbdV"
      },
      "source": [
        "# Create a numpy array\n",
        "\n",
        "v = np.array([3, 2])\n",
        "v"
      ],
      "execution_count": null,
      "outputs": []
    },
    {
      "cell_type": "markdown",
      "metadata": {
        "id": "STTFkSIhWbdW"
      },
      "source": [
        " The product of the two numpy arrays <code>u</code> and <code>v</code> is given by:\n"
      ]
    },
    {
      "cell_type": "code",
      "metadata": {
        "id": "4ufK2jjeWbdW"
      },
      "source": [
        "# Calculate the production of two numpy arrays\n",
        "\n",
        "z = u * v\n",
        "z"
      ],
      "execution_count": null,
      "outputs": []
    },
    {
      "cell_type": "markdown",
      "metadata": {
        "id": "QfyA1MxoWbdW"
      },
      "source": [
        "<h3 id=\"dot\">Dot Product</h3>\n"
      ]
    },
    {
      "cell_type": "markdown",
      "metadata": {
        "id": "gcfxvSBcWbdW"
      },
      "source": [
        "The dot product of the two numpy arrays <code>u</code> and <code>v</code> is given by:\n"
      ]
    },
    {
      "cell_type": "code",
      "metadata": {
        "id": "mg-ISiifWbdW"
      },
      "source": [
        "# Calculate the dot product\n",
        "\n",
        "np.dot(u, v)"
      ],
      "execution_count": null,
      "outputs": []
    },
    {
      "cell_type": "markdown",
      "metadata": {
        "id": "dzYzJegmWbdW"
      },
      "source": [
        "<h3 id=\"cons\">Adding Constant to a Numpy Array</h3>\n"
      ]
    },
    {
      "cell_type": "markdown",
      "metadata": {
        "id": "1NS84tD8WbdX"
      },
      "source": [
        "Consider the following array: \n"
      ]
    },
    {
      "cell_type": "code",
      "metadata": {
        "id": "XMq9NBFuWbdX"
      },
      "source": [
        "# Create a constant to numpy array\n",
        "\n",
        "u = np.array([1, 2, 3, -1]) \n",
        "u"
      ],
      "execution_count": null,
      "outputs": []
    },
    {
      "cell_type": "markdown",
      "metadata": {
        "id": "KW6F6QjhWbdX"
      },
      "source": [
        "Adding the constant 1 to each element in the array:\n"
      ]
    },
    {
      "cell_type": "code",
      "metadata": {
        "id": "PEWDzUJBWbdX"
      },
      "source": [
        "# Add the constant to array\n",
        "\n",
        "u + 1"
      ],
      "execution_count": null,
      "outputs": []
    },
    {
      "cell_type": "markdown",
      "metadata": {
        "id": "RxCLUwuDWbdX"
      },
      "source": [
        " The process is summarised in the following animation:\n"
      ]
    },
    {
      "cell_type": "markdown",
      "metadata": {
        "id": "iBGaQHQzWbdY"
      },
      "source": [
        "<img src=\"https://cf-courses-data.s3.us.cloud-object-storage.appdomain.cloud/IBMDeveloperSkillsNetwork-PY0101EN-SkillsNetwork/labs/Module%205/images/NumOneAdd.gif\" width=\"500\" />\n"
      ]
    },
    {
      "cell_type": "markdown",
      "metadata": {
        "id": "ChJK1dWYWbdY"
      },
      "source": [
        "<hr>\n"
      ]
    },
    {
      "cell_type": "markdown",
      "metadata": {
        "id": "n28Fd9orWbdY"
      },
      "source": [
        "<h2 id=\"math\">Mathematical Functions</h2>\n"
      ]
    },
    {
      "cell_type": "markdown",
      "metadata": {
        "id": "I_qz91GsWbdY"
      },
      "source": [
        " We can access the value of <code>pi</code> in numpy as follows :\n"
      ]
    },
    {
      "cell_type": "code",
      "metadata": {
        "id": "KD7_AYcXWbdY"
      },
      "source": [
        "# The value of pi\n",
        "\n",
        "np.pi"
      ],
      "execution_count": null,
      "outputs": []
    },
    {
      "cell_type": "markdown",
      "metadata": {
        "id": "uB0Ic1l0WbdY"
      },
      "source": [
        " We can create the following numpy array in Radians:\n"
      ]
    },
    {
      "cell_type": "code",
      "metadata": {
        "id": "0ROTVMy9WbdZ"
      },
      "source": [
        "# Create the numpy array in radians\n",
        "\n",
        "x = np.array([0, np.pi/2 , np.pi])"
      ],
      "execution_count": null,
      "outputs": []
    },
    {
      "cell_type": "markdown",
      "metadata": {
        "id": "_bvTtSS6WbdZ"
      },
      "source": [
        "We can apply the function <code>sin</code> to the array <code>x</code> and assign the values to the array <code>y</code>; this applies the sine function to each element in the array:  \n"
      ]
    },
    {
      "cell_type": "code",
      "metadata": {
        "id": "KTuJxURGWbdZ"
      },
      "source": [
        "# Calculate the sin of each elements\n",
        "\n",
        "y = np.sin(x)\n",
        "y"
      ],
      "execution_count": null,
      "outputs": []
    },
    {
      "cell_type": "markdown",
      "metadata": {
        "id": "qJPzykNzWbdZ"
      },
      "source": [
        "<hr>\n"
      ]
    },
    {
      "cell_type": "markdown",
      "metadata": {
        "id": "tQw39LDrWbdZ"
      },
      "source": [
        "<h2 id=\"lin\">Linspace</h2>\n"
      ]
    },
    {
      "cell_type": "markdown",
      "metadata": {
        "id": "9nPf4jC3WbdZ"
      },
      "source": [
        " A useful function for plotting mathematical functions is <code>linspace</code>.   Linspace returns evenly spaced numbers over a specified interval. We specify the starting point of the sequence and the ending point of the sequence. The parameter \"num\" indicates the Number of samples to generate, in this case 5:\n"
      ]
    },
    {
      "cell_type": "code",
      "metadata": {
        "id": "qZFZ0wV6Wbda"
      },
      "source": [
        "# Makeup a numpy array within [-2, 2] and 5 elements\n",
        "\n",
        "np.linspace(-2, 2, num=5)"
      ],
      "execution_count": null,
      "outputs": []
    },
    {
      "cell_type": "markdown",
      "metadata": {
        "id": "TWr3Y9tnWbda"
      },
      "source": [
        "If we change the parameter <code>num</code> to 9, we get 9 evenly spaced numbers over the interval from -2 to 2: \n"
      ]
    },
    {
      "cell_type": "code",
      "metadata": {
        "id": "aJmPl-vfWbda"
      },
      "source": [
        "# Makeup a numpy array within [-2, 2] and 9 elements\n",
        "\n",
        "np.linspace(-2, 2, num=9)"
      ],
      "execution_count": null,
      "outputs": []
    },
    {
      "cell_type": "markdown",
      "metadata": {
        "id": "Hy2M2edTWbda"
      },
      "source": [
        "We can use the function <code>linspace</code> to generate 100 evenly spaced samples from the interval 0 to 2π: \n"
      ]
    },
    {
      "cell_type": "code",
      "metadata": {
        "id": "1xKU33mpWbdb"
      },
      "source": [
        "# Makeup a numpy array within [0, 2π] and 100 elements \n",
        "\n",
        "x = np.linspace(0, 2*np.pi, num=100)"
      ],
      "execution_count": null,
      "outputs": []
    },
    {
      "cell_type": "markdown",
      "metadata": {
        "id": "EQgPgeK5Wbdb"
      },
      "source": [
        "We can apply the sine function to each element in the array <code>x</code> and assign it to the array <code>y</code>: \n"
      ]
    },
    {
      "cell_type": "code",
      "metadata": {
        "collapsed": true,
        "id": "u_MA_J_yWbdb"
      },
      "source": [
        "# Calculate the sine of x list\n",
        "\n",
        "y = np.sin(x)"
      ],
      "execution_count": null,
      "outputs": []
    },
    {
      "cell_type": "code",
      "metadata": {
        "id": "ZmiDbRNKWbdb"
      },
      "source": [
        "# Plot the result\n",
        "\n",
        "plt.plot(x, y)"
      ],
      "execution_count": null,
      "outputs": []
    },
    {
      "cell_type": "markdown",
      "metadata": {
        "id": "Sf6yQsN8Wbdb"
      },
      "source": [
        "<hr>\n"
      ]
    },
    {
      "cell_type": "markdown",
      "metadata": {
        "id": "KpTxEDVqWbdb"
      },
      "source": [
        "<h2 id=\"quiz\">Quiz on 1D Numpy Array</h2>\n"
      ]
    },
    {
      "cell_type": "markdown",
      "metadata": {
        "id": "MQh2G6CRWbdc"
      },
      "source": [
        "Implement the following vector subtraction in numpy: u-v\n"
      ]
    },
    {
      "cell_type": "code",
      "metadata": {
        "id": "Ge0AlNPkWbdc"
      },
      "source": [
        "# Write your code below and press Shift+Enter to execute\n",
        "\n",
        "u = np.array([1, 0])\n",
        "v = np.array([0, 1])"
      ],
      "execution_count": null,
      "outputs": []
    },
    {
      "cell_type": "markdown",
      "metadata": {
        "id": "Yrh2j2IqWbdc"
      },
      "source": [
        "<details><summary>Click here for the solution</summary>\n",
        "\n",
        "```python\n",
        "u - v\n",
        "```\n",
        "\n",
        "</details>\n"
      ]
    },
    {
      "cell_type": "markdown",
      "metadata": {
        "id": "LP1da1dAWbdc"
      },
      "source": [
        "<hr>\n"
      ]
    },
    {
      "cell_type": "markdown",
      "metadata": {
        "id": "oXJK-gyeWbdd"
      },
      "source": [
        "Multiply the numpy array z with -2:\n"
      ]
    },
    {
      "cell_type": "code",
      "metadata": {
        "id": "s4Uh1zWDWbdd"
      },
      "source": [
        "# Write your code below and press Shift+Enter to execute\n",
        "\n",
        "z = np.array([2, 4])"
      ],
      "execution_count": null,
      "outputs": []
    },
    {
      "cell_type": "markdown",
      "metadata": {
        "id": "_UxNowXdWbdd"
      },
      "source": [
        "<details><summary>Click here for the solution</summary>\n",
        "\n",
        "```python\n",
        "-2 * z\n",
        "```\n",
        "\n",
        "</details>\n"
      ]
    },
    {
      "cell_type": "markdown",
      "metadata": {
        "id": "8jqbDxs7Wbdd"
      },
      "source": [
        "<hr>\n"
      ]
    },
    {
      "cell_type": "markdown",
      "metadata": {
        "id": "EHEyXet5Wbde"
      },
      "source": [
        "Consider the list <code>[1, 2, 3, 4, 5]</code> and <code>[1, 0, 1, 0, 1]</code>, and cast both lists to a numpy array then multiply them together:\n"
      ]
    },
    {
      "cell_type": "code",
      "metadata": {
        "id": "pZZKtIfHWbde"
      },
      "source": [
        "# Write your code below and press Shift+Enter to execute\n"
      ],
      "execution_count": null,
      "outputs": []
    },
    {
      "cell_type": "markdown",
      "metadata": {
        "id": "FEf999TYWbdf"
      },
      "source": [
        "<details><summary>Click here for the solution</summary>\n",
        "\n",
        "```python\n",
        "a = np.array([1, 2, 3, 4, 5])\n",
        "b = np.array([1, 0, 1, 0, 1])\n",
        "a * b\n",
        "```\n",
        "\n",
        "</details>\n"
      ]
    },
    {
      "cell_type": "markdown",
      "metadata": {
        "id": "9zTSVznFWbdf"
      },
      "source": [
        "<hr>\n"
      ]
    },
    {
      "cell_type": "markdown",
      "metadata": {
        "id": "wO_WkcyLWbdf"
      },
      "source": [
        "Convert the list <code>[-1, 1]</code> and <code>[1, 1]</code> to numpy arrays <code>a</code> and <code>b</code>.  Then, plot the arrays as vectors using the fuction <code>Plotvec2</code> and find the dot product:\n"
      ]
    },
    {
      "cell_type": "code",
      "metadata": {
        "id": "FIPujjM-Wbdg"
      },
      "source": [
        "# Write your code below and press Shift+Enter to execute\n"
      ],
      "execution_count": null,
      "outputs": []
    },
    {
      "cell_type": "markdown",
      "metadata": {
        "id": "oM_Gi-wrWbdg"
      },
      "source": [
        "<details><summary>Click here for the solution</summary>\n",
        "\n",
        "```python\n",
        "a = np.array([-1, 1])\n",
        "b = np.array([1, 1])\n",
        "Plotvec2(a, b)\n",
        "print(\"The dot product is\", np.dot(a,b))\n",
        "\n",
        "```\n",
        "\n",
        "</details>\n"
      ]
    },
    {
      "cell_type": "markdown",
      "metadata": {
        "id": "IVBMTkO5Wbdg"
      },
      "source": [
        "<hr>\n"
      ]
    },
    {
      "cell_type": "markdown",
      "metadata": {
        "id": "S5UcmstlWbdg"
      },
      "source": [
        "Convert the list <code>[1, 0]</code> and <code>[0, 1]</code> to numpy arrays <code>a</code> and <code>b</code>. Then, plot the arrays as vectors using the function <code>Plotvec2</code> and find the dot product:\n"
      ]
    },
    {
      "cell_type": "code",
      "metadata": {
        "id": "r8N4TZLTWbdg"
      },
      "source": [
        "# Write your code below and press Shift+Enter to execute\n"
      ],
      "execution_count": null,
      "outputs": []
    },
    {
      "cell_type": "markdown",
      "metadata": {
        "id": "8jafBFQRWbdh"
      },
      "source": [
        "<details><summary>Click here for the solution</summary>\n",
        "\n",
        "```python\n",
        "a = np.array([1, 0])\n",
        "b = np.array([0, 1])\n",
        "Plotvec2(a, b)\n",
        "print(\"The dot product is\", np.dot(a, b))\n",
        "\n",
        "```\n",
        "\n",
        "</details>\n"
      ]
    },
    {
      "cell_type": "markdown",
      "metadata": {
        "id": "QmUSgoWaWbdh"
      },
      "source": [
        "<hr>\n"
      ]
    },
    {
      "cell_type": "markdown",
      "metadata": {
        "id": "qiBqmHuEWbdh"
      },
      "source": [
        "Convert the list <code>[1, 1]</code> and <code>[0, 1]</code> to numpy arrays <code>a</code> and <code>b</code>. Then plot the arrays as vectors using the fuction <code>Plotvec2</code> and find the dot product:\n"
      ]
    },
    {
      "cell_type": "code",
      "metadata": {
        "id": "ydSmOFteWbdh"
      },
      "source": [
        "# Write your code below and press Shift+Enter to execute\n"
      ],
      "execution_count": null,
      "outputs": []
    },
    {
      "cell_type": "markdown",
      "metadata": {
        "id": "cvm4YMofWbdi"
      },
      "source": [
        "<details><summary>Click here for the solution</summary>\n",
        "\n",
        "```python\n",
        "a = np.array([1, 1])\n",
        "b = np.array([0, 1])\n",
        "Plotvec2(a, b)\n",
        "print(\"The dot product is\", np.dot(a, b))\n",
        "print(\"The dot product is\", np.dot(a, b))\n",
        "\n",
        "```\n",
        "\n",
        "</details>\n",
        " \n"
      ]
    },
    {
      "cell_type": "markdown",
      "metadata": {
        "id": "eoH1CopqWbdi"
      },
      "source": [
        "<hr>\n"
      ]
    },
    {
      "cell_type": "markdown",
      "metadata": {
        "id": "fXI5Mxc0Wbdi"
      },
      "source": [
        "Why are the results of the dot product for <code>[-1, 1]</code> and <code>[1, 1]</code> and the dot product for <code>[1, 0]</code> and <code>[0, 1]</code> zero, but not zero for the dot product for <code>[1, 1]</code> and <code>[0, 1]</code>? <p><i>Hint: Study the corresponding figures, pay attention to the direction the arrows are pointing to.</i></p>\n"
      ]
    },
    {
      "cell_type": "code",
      "metadata": {
        "id": "3hsC_Kj-Wbdi"
      },
      "source": [
        "# Write your code below and press Shift+Enter to execute\n"
      ],
      "execution_count": null,
      "outputs": []
    },
    {
      "cell_type": "markdown",
      "metadata": {
        "id": "Zq7cunFNWbdj"
      },
      "source": [
        "<details><summary>Click here for the solution</summary>\n",
        "\n",
        "```python\n",
        "The vectors used for question 4 and 5 are perpendicular. As a result, the dot product is zero. \n",
        "\n",
        "```\n",
        "\n",
        "</details>\n",
        " \n"
      ]
    },
    {
      "cell_type": "markdown",
      "metadata": {
        "id": "l92kTy1dWbdj"
      },
      "source": [
        "<hr>\n",
        "<h2>The last exercise!</h2>\n",
        "<p>Congratulations, you have completed your first lesson and hands-on lab in Python. However, there is one more thing you need to do. The Data Science community encourages sharing work. The best way to share and showcase your work is to share it on GitHub. By sharing your notebook on GitHub you are not only building your reputation with fellow data scientists, but you can also show it off when applying for a job. Even though this was your first piece of work, it is never too early to start building good habits. So, please read and follow <a href=\"https://cognitiveclass.ai/blog/data-scientists-stand-out-by-sharing-your-notebooks/\" target=\"_blank\">this article</a> to learn how to share your work.\n",
        "<hr>\n"
      ]
    },
    {
      "cell_type": "markdown",
      "metadata": {
        "id": "SAmXLWN8Wbdj"
      },
      "source": [
        "## Author\n",
        "\n",
        "<a href=\"https://www.linkedin.com/in/joseph-s-50398b136/\" target=\"_blank\">Joseph Santarcangelo</a>\n",
        "\n",
        "## Other contributors\n",
        "\n",
        "<a href=\"www.linkedin.com/in/jiahui-mavis-zhou-a4537814a\">Mavis Zhou</a>\n",
        "\n",
        "## Change Log\n",
        "\n",
        "| Date (YYYY-MM-DD) | Version | Changed By | Change Description                 |\n",
        "| ----------------- | ------- | ---------- | ---------------------------------- |\n",
        "| 2020-08-26        | 2.0     | Lavanya    | Moved lab to course repo in GitLab |\n",
        "|                   |         |            |                                    |\n",
        "|                   |         |            |                                    |\n",
        "\n",
        "<hr/>\n",
        "\n",
        "## <h3 align=\"center\"> © IBM Corporation 2020. All rights reserved. <h3/>\n"
      ]
    }
  ]
}