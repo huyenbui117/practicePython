{
  "nbformat": 4,
  "nbformat_minor": 0,
  "metadata": {
    "colab": {
      "name": "Quiz.ipynb",
      "provenance": [],
      "authorship_tag": "ABX9TyP8hj02DzayCfbYZxm4/22+",
      "include_colab_link": true
    },
    "kernelspec": {
      "name": "python3",
      "display_name": "Python 3"
    },
    "language_info": {
      "name": "python"
    }
  },
  "cells": [
    {
      "cell_type": "markdown",
      "metadata": {
        "id": "view-in-github",
        "colab_type": "text"
      },
      "source": [
        "<a href=\"https://colab.research.google.com/github/huyenbui117/practicePython/blob/main/Quiz.ipynb\" target=\"_parent\"><img src=\"https://colab.research.google.com/assets/colab-badge.svg\" alt=\"Open In Colab\"/></a>"
      ]
    },
    {
      "cell_type": "code",
      "metadata": {
        "colab": {
          "base_uri": "https://localhost:8080/"
        },
        "id": "8CacegSf247D",
        "outputId": "a6bfd5dd-6153-4171-ebb3-81a83a23e509"
      },
      "source": [
        "import numpy as np\n",
        "a = np.array([1,2,3,5,8])\n",
        "b = np.array([0,3,4,2,1])\n",
        "c=a+b\n",
        "c=c*a\n",
        "c[2]"
      ],
      "execution_count": 7,
      "outputs": [
        {
          "output_type": "execute_result",
          "data": {
            "text/plain": [
              "21"
            ]
          },
          "metadata": {},
          "execution_count": 7
        }
      ]
    },
    {
      "cell_type": "code",
      "metadata": {
        "colab": {
          "base_uri": "https://localhost:8080/"
        },
        "id": "MxBRfad23DDf",
        "outputId": "d797117f-237d-4abc-d4f1-2045762ae03b"
      },
      "source": [
        "a=np.array([[1,2,3],[0,1,4]])\n",
        "a.size"
      ],
      "execution_count": 10,
      "outputs": [
        {
          "output_type": "execute_result",
          "data": {
            "text/plain": [
              "6"
            ]
          },
          "metadata": {},
          "execution_count": 10
        }
      ]
    },
    {
      "cell_type": "code",
      "metadata": {
        "colab": {
          "base_uri": "https://localhost:8080/"
        },
        "id": "4lDxHNpu3EVv",
        "outputId": "635c769d-b4e5-4235-8bcd-8cb804c77b23"
      },
      "source": [
        "a=np.array([[1,2,3],[0,1,4]])\n",
        "b=np.zeros((2,3), dtype=np.int16)\n",
        "c=np.ones((2,3), dtype=np.int16)\n",
        "d=a+b+c\n",
        "d[1,2]\n",
        "b\n",
        "c"
      ],
      "execution_count": 38,
      "outputs": [
        {
          "output_type": "execute_result",
          "data": {
            "text/plain": [
              "array([[1, 1, 1],\n",
              "       [1, 1, 1]], dtype=int16)"
            ]
          },
          "metadata": {},
          "execution_count": 38
        }
      ]
    },
    {
      "cell_type": "code",
      "metadata": {
        "colab": {
          "base_uri": "https://localhost:8080/"
        },
        "id": "46q71NXw4JJ5",
        "outputId": "9b39f2e6-8e78-47f6-aa7a-4f24991240d4"
      },
      "source": [
        "a=np.array([[0,1,0],[1,0,1]])\n",
        "a+=3\n",
        "b=a+3\n",
        "a[1,2]+b[1,2]"
      ],
      "execution_count": 39,
      "outputs": [
        {
          "output_type": "execute_result",
          "data": {
            "text/plain": [
              "11"
            ]
          },
          "metadata": {},
          "execution_count": 39
        }
      ]
    },
    {
      "cell_type": "code",
      "metadata": {
        "colab": {
          "base_uri": "https://localhost:8080/"
        },
        "id": "34vbba_z4dLF",
        "outputId": "cda3a09d-03ac-4edd-f1eb-bc99cf84755a"
      },
      "source": [
        "a=np.array([[3,6,7],[5,-3,0]])\n",
        "b=np.array([[1,1],[2,1],[3,-3]])\n",
        "np.dot(a,b)"
      ],
      "execution_count": 17,
      "outputs": [
        {
          "output_type": "execute_result",
          "data": {
            "text/plain": [
              "array([[ 36, -12],\n",
              "       [ -1,   2]])"
            ]
          },
          "metadata": {},
          "execution_count": 17
        }
      ]
    },
    {
      "cell_type": "code",
      "metadata": {
        "colab": {
          "base_uri": "https://localhost:8080/"
        },
        "id": "l7Eak_au47YK",
        "outputId": "7d247759-bef8-4b9a-fabe-ddbb7eaf4384"
      },
      "source": [
        "a=np.array([[1,4,5,12,14],\n",
        "            [-5,8,9,0,17],\n",
        "            [-6,7,11,19,21]])\n",
        "a[:,2:4]"
      ],
      "execution_count": 33,
      "outputs": [
        {
          "output_type": "execute_result",
          "data": {
            "text/plain": [
              "array([[ 5, 12],\n",
              "       [ 9,  0],\n",
              "       [11, 19]])"
            ]
          },
          "metadata": {},
          "execution_count": 33
        }
      ]
    },
    {
      "cell_type": "code",
      "metadata": {
        "colab": {
          "base_uri": "https://localhost:8080/"
        },
        "id": "3YdPw5Or56xC",
        "outputId": "0e760430-7e7c-4b87-8793-8b8c8157e5a8"
      },
      "source": [
        "a=np.array([0,1])\n",
        "b=np.array([1,0])\n",
        "np.dot(a,b)\n",
        "a+3"
      ],
      "execution_count": 36,
      "outputs": [
        {
          "output_type": "execute_result",
          "data": {
            "text/plain": [
              "array([3, 4])"
            ]
          },
          "metadata": {},
          "execution_count": 36
        }
      ]
    }
  ]
}